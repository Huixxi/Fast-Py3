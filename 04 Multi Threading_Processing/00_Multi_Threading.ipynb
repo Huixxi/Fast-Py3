{
 "cells": [
  {
   "cell_type": "markdown",
   "metadata": {
    "collapsed": true
   },
   "source": [
    "# Fast Python For Beginners\n",
    "___"
   ]
  },
  {
   "cell_type": "markdown",
   "metadata": {
    "collapsed": true
   },
   "source": [
    "## Multithreading\n",
    "> 启动一个线程就是把一个函数传入并创建Thread实例，然后调用start()开始执行：  \n",
    "  \n",
    "> Starting a thread is to pass in a function and create an instance of `Thread`, then call `start()` to start execution:"
   ]
  },
  {
   "cell_type": "code",
   "execution_count": 1,
   "metadata": {},
   "outputs": [],
   "source": [
    "import time, threading"
   ]
  },
  {
   "cell_type": "code",
   "execution_count": 2,
   "metadata": {},
   "outputs": [
    {
     "name": "stdout",
     "output_type": "stream",
     "text": [
      "Threading MainThread is running...\n",
      "Threading LoopThread is running...\n",
      "thread LoopThread >>> 1\n",
      "thread LoopThread >>> 2\n",
      "thread LoopThread >>> 3\n",
      "thread LoopThread >>> 4\n",
      "thread LoopThread >>> 5\n",
      "thread LoopThread ended\n",
      "thread MainThread ended.\n"
     ]
    }
   ],
   "source": [
    "def loop():\n",
    "    print(\"Threading %s is running...\" % threading.current_thread().name)\n",
    "    n = 0\n",
    "    while n < 5:\n",
    "        n += 1\n",
    "        print('thread %s >>> %s' % (threading.current_thread().name, n))\n",
    "        time.sleep(1)\n",
    "    print('thread %s ended' % (threading.current_thread().name))\n",
    "    \n",
    "print(\"Threading %s is running...\" % (threading.current_thread().name))\n",
    "t = threading.Thread(target=loop, name='LoopThread')\n",
    "t.start()\n",
    "t.join()\n",
    "print('thread %s ended.' % threading.current_thread().name)"
   ]
  },
  {
   "cell_type": "markdown",
   "metadata": {},
   "source": [
    "> 由于任何进程默认就会启动一个线程，我们把该线程称为**主线程**，主线程又可以启动新的线程，Python的threading模块有个current_thread()函数，它永远返回当前线程的实例。主线程实例的名字叫**MainThread**，子线程的名字在创建时指定，我们用LoopThread命名子线程。名字仅仅在打印时用来显示，完全没有其他意义，如果不起名字Python就自动给线程命名为Thread-1，Thread-2……\n",
    "  \n",
    "> Since any `process` starts a `thread` by default, we call it **main thread**, and the main thread can start a new thread. Python's `threading` module has a `current_thread()` function, which always returns an instance of the current thread. The name of the main thread instance is **MainThread**, and the name of the sub-thread is specified at the time of creation. We name the sub-thread with **LoopThread**. Names are only used to display when they are printed. There is no other meaning at all. If Python does not have a name, it automatically names threads Thread-1, Thread-2...  "
   ]
  },
  {
   "cell_type": "markdown",
   "metadata": {},
   "source": [
    "### Lock\n",
    "> 多线程和多进程最大的不同在于，多进程中，同一个变量，各自有一份拷贝存在于每个进程中，互不影响，而多线程中，所有变量都由所有线程共享，所以，任何一个变量都可以被任何一个线程修改，因此，线程之间共享数据最大的危险在于多个线程同时改一个变量，把内容给改乱了。  \n",
    "  \n",
    "> The biggest difference between `multi-threading` and `multi-process` is that:   \n",
    "* In multi-process, one copy of the same variable exists in each process and does not affect each other.   \n",
    "* In multi-threading, all variables are shared by all threads.     \n",
    "\n",
    "> Therefore, any variable can be modified by any thread. Therefore, data can be shared between threads. The biggest danger is that multiple threads change one variable at the same time, and the content is scrambled."
   ]
  },
  {
   "cell_type": "code",
   "execution_count": 3,
   "metadata": {},
   "outputs": [
    {
     "name": "stdout",
     "output_type": "stream",
     "text": [
      "0\n"
     ]
    }
   ],
   "source": [
    "import threading as th\n",
    "\n",
    "balance = 0\n",
    "\n",
    "def change_it(n):\n",
    "    global balance\n",
    "    balance += n\n",
    "    balance -= n\n",
    "    \n",
    "def run_thread(n):\n",
    "    for i in range(10000000):\n",
    "        change_it(n)\n",
    "        \n",
    "t1 = th.Thread(target=change_it, args=(5,))\n",
    "t2 = th.Thread(target=run_thread, args=(8,))\n",
    "t1.start()\n",
    "t2.start()\n",
    "t1.join()\n",
    "t2.join()\n",
    "print(balance)"
   ]
  },
  {
   "cell_type": "code",
   "execution_count": 4,
   "metadata": {},
   "outputs": [
    {
     "name": "stdout",
     "output_type": "stream",
     "text": [
      "0\n"
     ]
    }
   ],
   "source": [
    "import threading as th\n",
    "\n",
    "balance = 0\n",
    "lock = th.Lock()\n",
    "\n",
    "def change_it(n):\n",
    "    global balance\n",
    "    balance = balance + n\n",
    "    balance = balance - n\n",
    "    \n",
    "def run_thread(n):\n",
    "    for i in range(10000000):\n",
    "        lock.acquire()\n",
    "        try:\n",
    "            # 放心地改吧:\n",
    "            change_it(n)\n",
    "        finally:\n",
    "            # 改完了一定要释放锁:\n",
    "            lock.release()\n",
    "            \n",
    "\n",
    "t1 = th.Thread(target=change_it, args=(5,))\n",
    "t2 = th.Thread(target=run_thread, args=(8,))\n",
    "t1.start()\n",
    "t2.start()\n",
    "t1.join()\n",
    "t2.join()\n",
    "print(balance)      \n"
   ]
  },
  {
   "cell_type": "markdown",
   "metadata": {},
   "source": [
    "### ThreadLocal\n",
    "> 在多线程环境下，每个线程都有自己的数据。一个线程使用自己的局部变量比使用全局变量好，因为局部变量只有线程自己能看见，不会影响其他线程，而全局变量的修改必须加锁。  \n",
    "  \n",
    "> In a multithreaded environment, each thread has its own data. It is better for a thread to use its own local variables than global variables, because local variables can only be seen by the thread itself and will not affect other threads, and the modification of global variables must be locked."
   ]
  },
  {
   "cell_type": "code",
   "execution_count": 5,
   "metadata": {},
   "outputs": [
    {
     "name": "stdout",
     "output_type": "stream",
     "text": [
      "Hello, Alice (in Thread-A)Hello, Bob (in Thread-B)\n",
      "\n"
     ]
    }
   ],
   "source": [
    "import threading as th\n",
    "\n",
    "# 创建全局Threading对象\n",
    "local_school = th.local()\n",
    "\n",
    "def process_student():\n",
    "    std = local_school.student\n",
    "    print(\"Hello, %s (in %s)\" % (std, th.current_thread().name))\n",
    "    \n",
    "def process_thread(name):\n",
    "    # 绑定ThreadLocal的student:\n",
    "    local_school.student = name\n",
    "    process_student()\n",
    "\n",
    "t1 = th.Thread(target=process_thread, args=('Alice',), name='Thread-A')\n",
    "t2 = th.Thread(target=process_thread, args=('Bob',), name='Thread-B')\n",
    "t1.start()\n",
    "t2.start()\n",
    "t1.join()\n",
    "t2.join()"
   ]
  },
  {
   "cell_type": "code",
   "execution_count": 6,
   "metadata": {},
   "outputs": [
    {
     "data": {
      "text/plain": [
       "'Done!🐈'"
      ]
     },
     "execution_count": 6,
     "metadata": {},
     "output_type": "execute_result"
    }
   ],
   "source": [
    "'Done!\\N{Cat}'"
   ]
  }
 ],
 "metadata": {
  "kernelspec": {
   "display_name": "Python 3",
   "language": "python",
   "name": "python3"
  },
  "language_info": {
   "codemirror_mode": {
    "name": "ipython",
    "version": 3
   },
   "file_extension": ".py",
   "mimetype": "text/x-python",
   "name": "python",
   "nbconvert_exporter": "python",
   "pygments_lexer": "ipython3",
   "version": "3.7.1"
  }
 },
 "nbformat": 4,
 "nbformat_minor": 2
}
