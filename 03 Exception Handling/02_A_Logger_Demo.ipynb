{
 "cells": [
  {
   "cell_type": "markdown",
   "metadata": {},
   "source": [
    "# Fast Python3 For Beginners\n",
    "___"
   ]
  },
  {
   "cell_type": "code",
   "execution_count": 1,
   "metadata": {},
   "outputs": [],
   "source": [
    "import logging\n",
    "import logging.handlers\n",
    "import os\n",
    "import os.path\n",
    "\n",
    "global g_log_inst\n",
    "\n",
    "class Logger(object):\n",
    "    _inst = None\n",
    "    _level_dict = {\n",
    "        'CRITICAL': logging.CRITICAL,\n",
    "        'ERROR': logging.ERROR,\n",
    "        'WARNING': logging.WARNING,\n",
    "        'INFO': logging.INFO,\n",
    "        'DEBUG': logging.DEBUG,\n",
    "        'NOTSET': logging.NOTSET,\n",
    "    }\n",
    "\n",
    "    @classmethod\n",
    "    def start(cls, log_path, name=None, level=None):\n",
    "        if cls._inst is not None:\n",
    "            return cls._inst\n",
    "        \n",
    "        fpath = '/'.join(log_path.split('/')[0 : -1])\n",
    "        if os.path.exists(fpath) == False:\n",
    "            os.mkdir(fpath)\n",
    "        fmt = '[%(levelname)s] %(asctime)s, pid=%(process)d, src=%(filename)s:%(lineno)d, %(message)s'\n",
    "        datefmt = '%Y-%m-%d %H:%M:%S'\n",
    "        cls._inst = logging.getLogger(name)\n",
    "        log_level = Logger._level_dict[level] if level else 'DEBUG'\n",
    "        cls._inst.setLevel(log_level)\n",
    "        \n",
    "        # 1 << 20 即 2**20 or 2^20\n",
    "        handler = logging.handlers.RotatingFileHandler(log_path, maxBytes=500 * (1<<20), backupCount=8)\n",
    "        fmtter = logging.Formatter(fmt, datefmt)\n",
    "        handler.setFormatter(fmtter)\n",
    "        \n",
    "        cls._inst.addHandler(handler)\n",
    "        \n",
    "    @classmethod\n",
    "    def get(cls):\n",
    "        return cls._inst\n",
    "    \n",
    "g_log_inst = Logger"
   ]
  },
  {
   "cell_type": "markdown",
   "metadata": {},
   "source": [
    "### Usage"
   ]
  },
  {
   "cell_type": "code",
   "execution_count": null,
   "metadata": {},
   "outputs": [],
   "source": [
    "from log import g_log_inst as logger\n",
    "\n",
    "logger.get().debug()\n",
    "logger.get().info()"
   ]
  },
  {
   "cell_type": "code",
   "execution_count": 2,
   "metadata": {},
   "outputs": [
    {
     "data": {
      "text/plain": [
       "'Done!🐈'"
      ]
     },
     "execution_count": 2,
     "metadata": {},
     "output_type": "execute_result"
    }
   ],
   "source": [
    "'Done!\\N{Cat}'"
   ]
  }
 ],
 "metadata": {
  "kernelspec": {
   "display_name": "Python 3",
   "language": "python",
   "name": "python3"
  },
  "language_info": {
   "codemirror_mode": {
    "name": "ipython",
    "version": 3
   },
   "file_extension": ".py",
   "mimetype": "text/x-python",
   "name": "python",
   "nbconvert_exporter": "python",
   "pygments_lexer": "ipython3",
   "version": "3.7.1"
  }
 },
 "nbformat": 4,
 "nbformat_minor": 2
}
