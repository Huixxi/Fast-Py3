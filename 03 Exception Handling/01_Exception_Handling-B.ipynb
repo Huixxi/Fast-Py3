{
 "cells": [
  {
   "cell_type": "markdown",
   "metadata": {},
   "source": [
    "## Fast Python3 For Beginners"
   ]
  },
  {
   "cell_type": "markdown",
   "metadata": {},
   "source": [
    "### Unit Test\n",
    "> 编写一个Dict类，这个类的行为和dict一致，但是可以通过属性来访问，用起来就像下面这样:"
   ]
  },
  {
   "cell_type": "code",
   "execution_count": 1,
   "metadata": {
    "collapsed": true
   },
   "outputs": [],
   "source": [
    "class Dict(dict):\n",
    "    \n",
    "    def __init__(self, **kw):\n",
    "        super(Dict, self).__init__(**kw)\n",
    "        \n",
    "    def __getattr__(self, key):\n",
    "        try:\n",
    "            return self[key]\n",
    "        except KeyError:\n",
    "            raise AttributeError(r\"'Dict' object has no attribute '%s' \" % key)\n",
    "        \n",
    "    def __setattr__(self, key, value):\n",
    "        self[key] = value"
   ]
  },
  {
   "cell_type": "code",
   "execution_count": 2,
   "metadata": {
    "collapsed": true
   },
   "outputs": [],
   "source": [
    "d = Dict(a = 1, b = 2)"
   ]
  },
  {
   "cell_type": "code",
   "execution_count": 3,
   "metadata": {},
   "outputs": [
    {
     "data": {
      "text/plain": [
       "1"
      ]
     },
     "execution_count": 3,
     "metadata": {},
     "output_type": "execute_result"
    }
   ],
   "source": [
    "d['a']"
   ]
  },
  {
   "cell_type": "code",
   "execution_count": 4,
   "metadata": {},
   "outputs": [
    {
     "data": {
      "text/plain": [
       "1"
      ]
     },
     "execution_count": 4,
     "metadata": {},
     "output_type": "execute_result"
    }
   ],
   "source": [
    "d.a"
   ]
  },
  {
   "cell_type": "markdown",
   "metadata": {},
   "source": [
    "### Doc Test"
   ]
  },
  {
   "cell_type": "code",
   "execution_count": 5,
   "metadata": {},
   "outputs": [
    {
     "name": "stdout",
     "output_type": "stream",
     "text": [
      "**********************************************************************\n",
      "File \"__main__\", line ?, in __main__.Dict\n",
      "Failed example:\n",
      "    d1 = Dict()\n",
      "Exception raised:\n",
      "    Traceback (most recent call last):\n",
      "      File \"/home/ubuntu/anaconda3/lib/python3.6/doctest.py\", line 1330, in __run\n",
      "        compileflags, 1), test.globs)\n",
      "      File \"<doctest __main__.Dict[0]>\", line 1, in <module>\n",
      "        d1 = Dict()\n",
      "      File \"<ipython-input-5-e802639775b7>\", line 29, in __init__\n",
      "        return self[key]\n",
      "    NameError: name 'key' is not defined\n",
      "**********************************************************************\n",
      "File \"__main__\", line ?, in __main__.Dict\n",
      "Failed example:\n",
      "    d1['x'] = 100\n",
      "Exception raised:\n",
      "    Traceback (most recent call last):\n",
      "      File \"/home/ubuntu/anaconda3/lib/python3.6/doctest.py\", line 1330, in __run\n",
      "        compileflags, 1), test.globs)\n",
      "      File \"<doctest __main__.Dict[1]>\", line 1, in <module>\n",
      "        d1['x'] = 100\n",
      "    NameError: name 'd1' is not defined\n",
      "**********************************************************************\n",
      "File \"__main__\", line ?, in __main__.Dict\n",
      "Failed example:\n",
      "    d1.x\n",
      "Exception raised:\n",
      "    Traceback (most recent call last):\n",
      "      File \"/home/ubuntu/anaconda3/lib/python3.6/doctest.py\", line 1330, in __run\n",
      "        compileflags, 1), test.globs)\n",
      "      File \"<doctest __main__.Dict[2]>\", line 1, in <module>\n",
      "        d1.x\n",
      "    NameError: name 'd1' is not defined\n",
      "**********************************************************************\n",
      "File \"__main__\", line ?, in __main__.Dict\n",
      "Failed example:\n",
      "    d1.y = 200\n",
      "Exception raised:\n",
      "    Traceback (most recent call last):\n",
      "      File \"/home/ubuntu/anaconda3/lib/python3.6/doctest.py\", line 1330, in __run\n",
      "        compileflags, 1), test.globs)\n",
      "      File \"<doctest __main__.Dict[3]>\", line 1, in <module>\n",
      "        d1.y = 200\n",
      "    NameError: name 'd1' is not defined\n",
      "**********************************************************************\n",
      "File \"__main__\", line ?, in __main__.Dict\n",
      "Failed example:\n",
      "    d1['y']\n",
      "Exception raised:\n",
      "    Traceback (most recent call last):\n",
      "      File \"/home/ubuntu/anaconda3/lib/python3.6/doctest.py\", line 1330, in __run\n",
      "        compileflags, 1), test.globs)\n",
      "      File \"<doctest __main__.Dict[4]>\", line 1, in <module>\n",
      "        d1['y']\n",
      "    NameError: name 'd1' is not defined\n",
      "**********************************************************************\n",
      "File \"__main__\", line ?, in __main__.Dict\n",
      "Failed example:\n",
      "    d2 = Dict(a=1, b=2, c='3')\n",
      "Exception raised:\n",
      "    Traceback (most recent call last):\n",
      "      File \"/home/ubuntu/anaconda3/lib/python3.6/doctest.py\", line 1330, in __run\n",
      "        compileflags, 1), test.globs)\n",
      "      File \"<doctest __main__.Dict[5]>\", line 1, in <module>\n",
      "        d2 = Dict(a=1, b=2, c='3')\n",
      "      File \"<ipython-input-5-e802639775b7>\", line 29, in __init__\n",
      "        return self[key]\n",
      "    NameError: name 'key' is not defined\n",
      "**********************************************************************\n",
      "File \"__main__\", line ?, in __main__.Dict\n",
      "Failed example:\n",
      "    d2.c\n",
      "Exception raised:\n",
      "    Traceback (most recent call last):\n",
      "      File \"/home/ubuntu/anaconda3/lib/python3.6/doctest.py\", line 1330, in __run\n",
      "        compileflags, 1), test.globs)\n",
      "      File \"<doctest __main__.Dict[6]>\", line 1, in <module>\n",
      "        d2.c\n",
      "    NameError: name 'd2' is not defined\n",
      "**********************************************************************\n",
      "File \"__main__\", line ?, in __main__.Dict\n",
      "Failed example:\n",
      "    d2['empty']\n",
      "Expected:\n",
      "    Traceback (most recent call last):\n",
      "        ...\n",
      "    KeyError: 'empty'\n",
      "Got:\n",
      "    Traceback (most recent call last):\n",
      "      File \"/home/ubuntu/anaconda3/lib/python3.6/doctest.py\", line 1330, in __run\n",
      "        compileflags, 1), test.globs)\n",
      "      File \"<doctest __main__.Dict[7]>\", line 1, in <module>\n",
      "        d2['empty']\n",
      "    NameError: name 'd2' is not defined\n",
      "**********************************************************************\n",
      "File \"__main__\", line ?, in __main__.Dict\n",
      "Failed example:\n",
      "    d2.empty\n",
      "Expected:\n",
      "    Traceback (most recent call last):\n",
      "        ...\n",
      "    AttributeError: 'Dict' object has no attribute 'empty'\n",
      "Got:\n",
      "    Traceback (most recent call last):\n",
      "      File \"/home/ubuntu/anaconda3/lib/python3.6/doctest.py\", line 1330, in __run\n",
      "        compileflags, 1), test.globs)\n",
      "      File \"<doctest __main__.Dict[8]>\", line 1, in <module>\n",
      "        d2.empty\n",
      "    NameError: name 'd2' is not defined\n",
      "**********************************************************************\n",
      "1 items had failures:\n",
      "   9 of   9 in __main__.Dict\n",
      "***Test Failed*** 9 failures.\n"
     ]
    }
   ],
   "source": [
    "class Dict(dict):\n",
    "    '''\n",
    "    Simple dict but also support access as x.y style.\n",
    "\n",
    "    >>> d1 = Dict()\n",
    "    >>> d1['x'] = 100\n",
    "    >>> d1.x\n",
    "    100\n",
    "    >>> d1.y = 200\n",
    "    >>> d1['y']\n",
    "    200\n",
    "    >>> d2 = Dict(a=1, b=2, c='3')\n",
    "    >>> d2.c\n",
    "    '3'\n",
    "    >>> d2['empty']\n",
    "    Traceback (most recent call last):\n",
    "        ...\n",
    "    KeyError: 'empty'\n",
    "    >>> d2.empty\n",
    "    Traceback (most recent call last):\n",
    "        ...\n",
    "    AttributeError: 'Dict' object has no attribute 'empty'\n",
    "    '''\n",
    "    def __init__(self, **kw):\n",
    "        super(Dict, self).__init__(**kw)\n",
    "\n",
    "#    def __getattr__(self, key):\n",
    "        try:\n",
    "            return self[key]\n",
    "        except KeyError:\n",
    "            raise AttributeError(r\"'Dict' object has no attribute '%s'\" % key)\n",
    "\n",
    "    def __setattr__(self, key, value):\n",
    "        self[key] = value\n",
    "\n",
    "if __name__=='__main__':\n",
    "    import doctest\n",
    "    doctest.testmod()"
   ]
  }
 ],
 "metadata": {
  "kernelspec": {
   "display_name": "Python 3",
   "language": "python",
   "name": "python3"
  },
  "language_info": {
   "codemirror_mode": {
    "name": "ipython",
    "version": 3
   },
   "file_extension": ".py",
   "mimetype": "text/x-python",
   "name": "python",
   "nbconvert_exporter": "python",
   "pygments_lexer": "ipython3",
   "version": "3.6.1"
  }
 },
 "nbformat": 4,
 "nbformat_minor": 2
}
