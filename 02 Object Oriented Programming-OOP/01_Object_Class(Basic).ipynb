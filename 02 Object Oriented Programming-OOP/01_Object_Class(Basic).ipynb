{
 "cells": [
  {
   "cell_type": "markdown",
   "metadata": {
    "collapsed": true
   },
   "source": [
    "## Fast Python3 For Beginners"
   ]
  },
  {
   "cell_type": "markdown",
   "metadata": {},
   "source": [
    "### 1.Class \n",
    "> class的名字通常首字母为大写，像Animal,Dog..."
   ]
  },
  {
   "cell_type": "code",
   "execution_count": 1,
   "metadata": {
    "collapsed": true
   },
   "outputs": [],
   "source": [
    "class Animal:\n",
    "#     __name = \"\"\n",
    "#     __height = 0\n",
    "#     __weight = 0\n",
    "#     __sound = 0\n",
    "    def __init__(self, name, height, weight, sound):\n",
    "        self.name = name\n",
    "        self.height = height\n",
    "        self.weight = weight\n",
    "        self.sound = sound\n",
    "    \n",
    "    def set_name(self, name):\n",
    "        self.name = name\n",
    "        \n",
    "    def get_name(self):\n",
    "        return self.name\n",
    "    \n",
    "    def get_height(self):\n",
    "        return self.height\n",
    "    \n",
    "    def get_weight(self):\n",
    "        return self.weight\n",
    "    \n",
    "    def get_sound(self):\n",
    "        return self.sound\n",
    "    \n",
    "    def get_type(self):\n",
    "        print(\"Animal\")\n",
    "        \n",
    "    def toString(self):\n",
    "        return \"{} is {} cm tall and {} kilograms and say {}\".format(self.name,\n",
    "                                                                     self.height,\n",
    "                                                                     self.weight,\n",
    "                                                                     self.sound)"
   ]
  },
  {
   "cell_type": "code",
   "execution_count": 2,
   "metadata": {},
   "outputs": [
    {
     "name": "stdout",
     "output_type": "stream",
     "text": [
      "Whiskers is 33 cm tall and 10 kilograms and say Meow\n"
     ]
    }
   ],
   "source": [
    "cat = Animal(\"Whiskers\", 33, 10, \"Meow\")\n",
    "print(cat.toString())"
   ]
  },
  {
   "cell_type": "markdown",
   "metadata": {},
   "source": [
    "### 2.Inherite"
   ]
  },
  {
   "cell_type": "code",
   "execution_count": 3,
   "metadata": {
    "collapsed": true
   },
   "outputs": [],
   "source": [
    "class Dog(Animal):\n",
    "#     __owner = \"\"\n",
    "    \n",
    "    def __init__(self, name, height, weight, sound, owner):\n",
    "        self.__owner = owner\n",
    "        super(Dog, self).__init__(name, height, weight, sound)\n",
    "        \n",
    "    def set_owner(self, owner):\n",
    "        self.__owner = owner\n",
    "        \n",
    "    def get_owner(self):\n",
    "        return self.__owner\n",
    "    \n",
    "    def get_type(self):\n",
    "        print(\"Dog\")\n",
    "        \n",
    "    def toString(self):\n",
    "        return \"{} is {} cm tall and {} kilograms and say {}. His owner is {}\".format(self.name, \n",
    "                                                                                      self.height,\n",
    "                                                                                      self.weight,\n",
    "                                                                                      self.sound,\n",
    "                                                                                      self.__owner)\n",
    "    def multi_sound(self, how_many=None):\n",
    "        if how_many is None:\n",
    "            print(self.get_sound())\n",
    "        else:\n",
    "            print(self.get_sound()*how_many)\n",
    "    "
   ]
  },
  {
   "cell_type": "code",
   "execution_count": 4,
   "metadata": {},
   "outputs": [
    {
     "name": "stdout",
     "output_type": "stream",
     "text": [
      "Spot is 53 cm tall and 27 kilograms and say Ruff. His owner is Derek\n",
      "RuffRuffRuffRuff\n"
     ]
    }
   ],
   "source": [
    "spot = Dog(\"Spot\", 53, 27, \"Ruff\", \"Derek\")\n",
    "print(spot.toString())\n",
    "spot.multi_sound(4)"
   ]
  },
  {
   "cell_type": "markdown",
   "metadata": {},
   "source": [
    "### 3.Polymorphism"
   ]
  },
  {
   "cell_type": "code",
   "execution_count": 5,
   "metadata": {},
   "outputs": [
    {
     "name": "stdout",
     "output_type": "stream",
     "text": [
      "Animal\n",
      "Dog\n"
     ]
    }
   ],
   "source": [
    "class AnimalTesting:\n",
    "    def get_type(self, animal):\n",
    "        animal.get_type()\n",
    "\n",
    "test_animals = AnimalTesting()\n",
    "test_animals.get_type(cat)\n",
    "test_animals.get_type(spot)"
   ]
  }
 ],
 "metadata": {
  "kernelspec": {
   "display_name": "Python 3",
   "language": "python",
   "name": "python3"
  },
  "language_info": {
   "codemirror_mode": {
    "name": "ipython",
    "version": 3
   },
   "file_extension": ".py",
   "mimetype": "text/x-python",
   "name": "python",
   "nbconvert_exporter": "python",
   "pygments_lexer": "ipython3",
   "version": "3.6.1"
  }
 },
 "nbformat": 4,
 "nbformat_minor": 2
}
