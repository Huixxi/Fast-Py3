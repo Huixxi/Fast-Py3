{
 "cells": [
  {
   "cell_type": "markdown",
   "metadata": {},
   "source": [
    "## Fast Python3 For Beginners"
   ]
  },
  {
   "cell_type": "markdown",
   "metadata": {},
   "source": [
    "### `if __name__ == '__main__':`\n",
    "> 当我们在<u>**命令行**</u>运行hello模块文件时，Python解释器把一个特殊变量**`__name__`**置为**`__main__`**，而如果在其他地方导入该hello模块时，if判断将失败，因此，这种if测试可以<u>**让一个模块通过命令行运行**</u>时执行一些额外的代码，最常见的就是运行测试。"
   ]
  },
  {
   "cell_type": "markdown",
   "metadata": {},
   "source": [
    "### Scope\n",
    "> 类似**`_xxx`**和**`__xxx`**这样的函数或变量就是非公开的（private）"
   ]
  },
  {
   "cell_type": "markdown",
   "metadata": {},
   "source": [
    "### Install the third-party model\n",
    "> **Anaconda** recommanded"
   ]
  },
  {
   "cell_type": "markdown",
   "metadata": {},
   "source": [
    "### Model path"
   ]
  },
  {
   "cell_type": "code",
   "execution_count": 1,
   "metadata": {},
   "outputs": [
    {
     "data": {
      "text/plain": [
       "['',\n",
       " '/home/ubuntu/anaconda3/lib/python36.zip',\n",
       " '/home/ubuntu/anaconda3/lib/python3.6',\n",
       " '/home/ubuntu/anaconda3/lib/python3.6/lib-dynload',\n",
       " '/home/ubuntu/anaconda3/lib/python3.6/site-packages',\n",
       " '/home/ubuntu/anaconda3/lib/python3.6/site-packages/Sphinx-1.5.6-py3.6.egg',\n",
       " '/home/ubuntu/anaconda3/lib/python3.6/site-packages/setuptools-27.2.0-py3.6.egg',\n",
       " '/home/ubuntu/anaconda3/lib/python3.6/site-packages/IPython/extensions',\n",
       " '/home/ubuntu/.ipython']"
      ]
     },
     "execution_count": 1,
     "metadata": {},
     "output_type": "execute_result"
    }
   ],
   "source": [
    "import sys\n",
    "sys.path"
   ]
  }
 ],
 "metadata": {
  "kernelspec": {
   "display_name": "Python 3",
   "language": "python",
   "name": "python3"
  },
  "language_info": {
   "codemirror_mode": {
    "name": "ipython",
    "version": 3
   },
   "file_extension": ".py",
   "mimetype": "text/x-python",
   "name": "python",
   "nbconvert_exporter": "python",
   "pygments_lexer": "ipython3",
   "version": "3.6.1"
  }
 },
 "nbformat": 4,
 "nbformat_minor": 2
}
