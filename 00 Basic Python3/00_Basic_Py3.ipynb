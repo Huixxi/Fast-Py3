{
 "cells": [
  {
   "cell_type": "markdown",
   "metadata": {},
   "source": [
    "## Fast Python3 for Beginners"
   ]
  },
  {
   "cell_type": "markdown",
   "metadata": {},
   "source": [
    "### 1. Hello World!"
   ]
  },
  {
   "cell_type": "code",
   "execution_count": 1,
   "metadata": {},
   "outputs": [
    {
     "name": "stdout",
     "output_type": "stream",
     "text": [
      "Hello World!\n"
     ]
    }
   ],
   "source": [
    "# Just one line code.\n",
    "print(\"Hello World!\")"
   ]
  },
  {
   "cell_type": "markdown",
   "metadata": {},
   "source": [
    "### 2. Arithmetic Operators\n",
    "`+`  `-`  `*`  `/`  `%`  `**`  `//`"
   ]
  },
  {
   "cell_type": "code",
   "execution_count": 2,
   "metadata": {},
   "outputs": [
    {
     "name": "stdout",
     "output_type": "stream",
     "text": [
      "5 + 2 = 7\n",
      "5 - 2 = 3\n",
      "5 * 2 = 10\n",
      "5 / 2 = 2.5\n",
      "5 % 2 = 1\n",
      "5 ** 2 = 25\n",
      "5 // 2 = 2\n",
      "1 + 2 - 3 * 2 = -3\n",
      "(1 + 2 - 3) * 2 = 0\n"
     ]
    }
   ],
   "source": [
    "# single\n",
    "print(\"5 + 2 =\", 5+2)\n",
    "print(\"5 - 2 =\", 5-2)\n",
    "print(\"5 * 2 =\", 5*2)\n",
    "print(\"5 / 2 =\", 5/2)\n",
    "print(\"5 % 2 =\", 5%2)\n",
    "print(\"5 ** 2 =\", 5**2)\n",
    "print(\"5 // 2 =\", 5//2)\n",
    "# mix\n",
    "print(\"1 + 2 - 3 * 2 =\", 1 + 2 - 3 * 2)\n",
    "print(\"(1 + 2 - 3) * 2 =\", (1 + 2 - 3) * 2)"
   ]
  },
  {
   "cell_type": "code",
   "execution_count": 3,
   "metadata": {},
   "outputs": [
    {
     "name": "stdout",
     "output_type": "stream",
     "text": [
      "175\n",
      "8\n",
      "5\n"
     ]
    }
   ],
   "source": [
    "# hexadecimal: 0xAF \n",
    "print(0xAF)\n",
    "# octal: 0o10\n",
    "print(0o10)\n",
    "# binary: 0b101\n",
    "print(0b101)"
   ]
  },
  {
   "cell_type": "markdown",
   "metadata": {},
   "source": [
    "### 3. Variable"
   ]
  },
  {
   "cell_type": "code",
   "execution_count": 4,
   "metadata": {},
   "outputs": [],
   "source": [
    "# assginment\n",
    "var = 3\n",
    "name = 'Marvin'"
   ]
  },
  {
   "cell_type": "markdown",
   "metadata": {},
   "source": [
    "### 4. Get input from user\n",
    "`It returns a string.`"
   ]
  },
  {
   "cell_type": "code",
   "execution_count": 5,
   "metadata": {},
   "outputs": [
    {
     "name": "stdout",
     "output_type": "stream",
     "text": [
      "x: 3\n"
     ]
    }
   ],
   "source": [
    "x = input('x: ')"
   ]
  },
  {
   "cell_type": "code",
   "execution_count": 6,
   "metadata": {},
   "outputs": [
    {
     "name": "stdout",
     "output_type": "stream",
     "text": [
      "s: I will always love you, Tony.\n"
     ]
    }
   ],
   "source": [
    "s = input('s: ')"
   ]
  },
  {
   "cell_type": "markdown",
   "metadata": {},
   "source": [
    "### 5. Make Comments"
   ]
  },
  {
   "cell_type": "code",
   "execution_count": 7,
   "metadata": {},
   "outputs": [
    {
     "data": {
      "text/plain": [
       "'\\nMake\\nMultiline\\nComments\\n'"
      ]
     },
     "execution_count": 7,
     "metadata": {},
     "output_type": "execute_result"
    }
   ],
   "source": [
    "# Comments like that\n",
    "\n",
    "'''\n",
    "Make\n",
    "Multiline\n",
    "Comments\n",
    "'''"
   ]
  },
  {
   "cell_type": "markdown",
   "metadata": {},
   "source": [
    "### 6. Module\n",
    "`Call third-party function packages with: ` `import`"
   ]
  },
  {
   "cell_type": "code",
   "execution_count": 8,
   "metadata": {},
   "outputs": [
    {
     "data": {
      "text/plain": [
       "1j"
      ]
     },
     "execution_count": 8,
     "metadata": {},
     "output_type": "execute_result"
    }
   ],
   "source": [
    "import cmath\n",
    "cmath.sqrt(-1)"
   ]
  },
  {
   "cell_type": "markdown",
   "metadata": {},
   "source": [
    "### 7. Run python script in cmd or terminal\n",
    "`In windows cmd:` `C:\\>python hello.py`  \n",
    "`In linux terminal` `$ python hello.py`"
   ]
  },
  {
   "cell_type": "code",
   "execution_count": 9,
   "metadata": {},
   "outputs": [
    {
     "name": "stdout",
     "output_type": "stream",
     "text": [
      "Done! 🐈\n"
     ]
    }
   ],
   "source": [
    "print('Done! \\N{Cat}')"
   ]
  }
 ],
 "metadata": {
  "kernelspec": {
   "display_name": "Python 3",
   "language": "python",
   "name": "python3"
  },
  "language_info": {
   "codemirror_mode": {
    "name": "ipython",
    "version": 3
   },
   "file_extension": ".py",
   "mimetype": "text/x-python",
   "name": "python",
   "nbconvert_exporter": "python",
   "pygments_lexer": "ipython3",
   "version": "3.7.1"
  }
 },
 "nbformat": 4,
 "nbformat_minor": 2
}
