{
 "cells": [
  {
   "cell_type": "markdown",
   "metadata": {},
   "source": [
    "## Fast Python3 For Beginners"
   ]
  },
  {
   "cell_type": "markdown",
   "metadata": {},
   "source": [
    "### 1.List[]"
   ]
  },
  {
   "cell_type": "code",
   "execution_count": 1,
   "metadata": {},
   "outputs": [
    {
     "data": {
      "text/plain": [
       "['append',\n",
       " 'clear',\n",
       " 'copy',\n",
       " 'count',\n",
       " 'extend',\n",
       " 'index',\n",
       " 'insert',\n",
       " 'pop',\n",
       " 'remove',\n",
       " 'reverse',\n",
       " 'sort']"
      ]
     },
     "execution_count": 1,
     "metadata": {},
     "output_type": "execute_result"
    }
   ],
   "source": [
    "[x for x in dir(list) if not x.startswith('_')]"
   ]
  },
  {
   "cell_type": "code",
   "execution_count": 2,
   "metadata": {},
   "outputs": [
    {
     "name": "stdout",
     "output_type": "stream",
     "text": [
      "First Item:  Juice\n",
      "First Item:  Green Juice\n",
      "['Tomatoes', 'Potatoes']\n",
      "[['Wash Car', 'Pick Up Kids', 'Cash Check'], ['Green Juice', 'Tomatoes', 'Potatoes', 'Bananas']]\n",
      "Tomatoes\n",
      "[['Wash Car', 'Pick Up Kids', 'Cash Check'], ['Green Juice', 'Tomatoes', 'Potatoes', 'Bananas', 'Onions']]\n",
      "[['Wash Car', 'Pick Up Kids', 'Cash Check'], ['Green Juice', 'Pickle', 'Tomatoes', 'Potatoes', 'Bananas', 'Onions']]\n",
      "[['Wash Car', 'Pick Up Kids', 'Cash Check'], ['Green Juice', 'Tomatoes', 'Potatoes', 'Bananas', 'Onions']]\n",
      "[['Wash Car', 'Pick Up Kids', 'Cash Check'], ['Bananas', 'Green Juice', 'Onions', 'Potatoes', 'Tomatoes']]\n",
      "[['Wash Car', 'Pick Up Kids', 'Cash Check'], ['Tomatoes', 'Potatoes', 'Onions', 'Green Juice', 'Bananas']]\n",
      "[['Wash Car', 'Pick Up Kids', 'Cash Check'], ['Tomatoes', 'Potatoes', 'Onions', 'Green Juice']]\n",
      "['Wash Car', 'Pick Up Kids', 'Cash Check', 'Tomatoes', 'Potatoes', 'Onions', 'Green Juice']\n",
      "7\n",
      "Wash Car\n",
      "Cash Check\n"
     ]
    }
   ],
   "source": [
    "grocery_list = ['Juice', 'Tomatoes', 'Potatoes', 'Bananas']\n",
    "print('First Item: ', grocery_list[0])\n",
    "\n",
    "grocery_list[0] = 'Green Juice'\n",
    "print('First Item: ', grocery_list[0])\n",
    "\n",
    "## slice\n",
    "print(grocery_list[1:3])\n",
    "\n",
    "other_events = ['Wash Car', 'Pick Up Kids',\n",
    "                'Cash Check']\n",
    "to_do_list = [other_events, grocery_list]\n",
    "\n",
    "print(to_do_list)\n",
    "print(to_do_list[1][1])\n",
    "\n",
    "#==================================#\n",
    "## append()\n",
    "grocery_list.append('Onions')\n",
    "print(to_do_list)\n",
    "## insert()\n",
    "grocery_list.insert(1, 'Pickle')\n",
    "print(to_do_list)\n",
    "## remove()\n",
    "grocery_list.remove('Pickle')\n",
    "print(to_do_list)\n",
    "## sort()\n",
    "grocery_list.sort()\n",
    "print(to_do_list)\n",
    "## reverse()\n",
    "grocery_list.reverse()\n",
    "print(to_do_list)\n",
    "## del\n",
    "del grocery_list[4]\n",
    "print(to_do_list)\n",
    "#=================================#\n",
    "\n",
    "to_do_list2 = other_events + grocery_list\n",
    "print(to_do_list2)\n",
    "print(len(to_do_list2))\n",
    "## highest/lowest alphabetically\n",
    "print(max(to_do_list2))\n",
    "print(min(to_do_list2))"
   ]
  },
  {
   "cell_type": "markdown",
   "metadata": {},
   "source": [
    "### 2.Tuple()\n",
    "> We are not going to be able to change a tuple after it is created"
   ]
  },
  {
   "cell_type": "code",
   "execution_count": 3,
   "metadata": {},
   "outputs": [
    {
     "data": {
      "text/plain": [
       "['count', 'index']"
      ]
     },
     "execution_count": 3,
     "metadata": {},
     "output_type": "execute_result"
    }
   ],
   "source": [
    "[x for x in dir(tuple) if not x.startswith('_')]"
   ]
  },
  {
   "cell_type": "code",
   "execution_count": 4,
   "metadata": {},
   "outputs": [
    {
     "name": "stdout",
     "output_type": "stream",
     "text": [
      "<class 'tuple'>\n"
     ]
    }
   ],
   "source": [
    "anEmptyTuple = ()\n",
    "print(type(anEmptyTuple))\n",
    "pi_tuple = (3, 1, 3, 5, 6, 9)\n",
    "\n",
    "new_tuple = list(pi_tuple)\n",
    "new_list = tuple(new_tuple)\n",
    "\n",
    "## Also: len(tuple), max(tuple), min(tuple)"
   ]
  },
  {
   "cell_type": "markdown",
   "metadata": {},
   "source": [
    "### 3.Dictionary/Map{}\n",
    "> Unipue key for each value  \n",
    "Can't join dictionaries together with plus sign('+') lile lists  \n",
    "Sufficiently fast to find an element ** O(1)**"
   ]
  },
  {
   "cell_type": "code",
   "execution_count": 5,
   "metadata": {},
   "outputs": [
    {
     "data": {
      "text/plain": [
       "['clear',\n",
       " 'copy',\n",
       " 'fromkeys',\n",
       " 'get',\n",
       " 'items',\n",
       " 'keys',\n",
       " 'pop',\n",
       " 'popitem',\n",
       " 'setdefault',\n",
       " 'update',\n",
       " 'values']"
      ]
     },
     "execution_count": 5,
     "metadata": {},
     "output_type": "execute_result"
    }
   ],
   "source": [
    "[x for x in dir(dict) if not x.startswith('_')]"
   ]
  },
  {
   "cell_type": "code",
   "execution_count": 6,
   "metadata": {},
   "outputs": [
    {
     "name": "stdout",
     "output_type": "stream",
     "text": [
      "Leonard Snart\n",
      "5\n",
      "Thomes Peterson\n",
      "dict_keys(['Captain Cold', 'Weather Wizard', 'Mirror Master', 'Pied Piper', 'Pied  Piper'])\n",
      "dict_values(['Leonard Snart', 'Mark Mardon', 'Sam Scudder', 'Thomes Peterson', 'Hartley Rathaway'])\n"
     ]
    }
   ],
   "source": [
    "super_villains = {'Fiddler' : 'Isaac Bowin', \n",
    "                  'Captain Cold' : 'Leonard Snart', \n",
    "                  'Weather Wizard' : 'Mark Mardon', \n",
    "                  'Mirror Master' : 'Sam Scudder', \n",
    "                  'Pied Piper' : 'Thomes Peterson'}\n",
    "print(super_villains['Captain Cold'])\n",
    "\n",
    "del super_villains['Fiddler']\n",
    "\n",
    "super_villains['Pied  Piper'] = 'Hartley Rathaway'\n",
    "\n",
    "print(len(super_villains))\n",
    "\n",
    "print(super_villains.get('Pied Piper'))\n",
    "\n",
    "print(super_villains.keys())\n",
    "\n",
    "print(super_villains.values())"
   ]
  },
  {
   "cell_type": "markdown",
   "metadata": {},
   "source": [
    "### dict\n",
    "> dict's key must be **Invariants**, because dict need to use **HASH** according to the **key** to calculate the storage location of the corresponding **value**. For example, the key can not be a list."
   ]
  },
  {
   "cell_type": "code",
   "execution_count": 7,
   "metadata": {},
   "outputs": [
    {
     "data": {
      "text/plain": [
       "False"
      ]
     },
     "execution_count": 7,
     "metadata": {},
     "output_type": "execute_result"
    }
   ],
   "source": [
    "d = {'Michael': 95, 'Bob': 75, 'Tracy': 85}\n",
    "'Tom' in d"
   ]
  },
  {
   "cell_type": "code",
   "execution_count": 8,
   "metadata": {},
   "outputs": [
    {
     "data": {
      "text/plain": [
       "75"
      ]
     },
     "execution_count": 8,
     "metadata": {},
     "output_type": "execute_result"
    }
   ],
   "source": [
    "d.get('Bob')"
   ]
  },
  {
   "cell_type": "code",
   "execution_count": 9,
   "metadata": {
    "collapsed": true
   },
   "outputs": [],
   "source": [
    "d.get('Tom')"
   ]
  },
  {
   "cell_type": "code",
   "execution_count": 10,
   "metadata": {},
   "outputs": [
    {
     "data": {
      "text/plain": [
       "-1"
      ]
     },
     "execution_count": 10,
     "metadata": {},
     "output_type": "execute_result"
    }
   ],
   "source": [
    "d.get('Tom', -1)"
   ]
  },
  {
   "cell_type": "code",
   "execution_count": 11,
   "metadata": {},
   "outputs": [
    {
     "ename": "TypeError",
     "evalue": "unhashable type: 'list'",
     "output_type": "error",
     "traceback": [
      "\u001b[0;31m---------------------------------------------------------------------------\u001b[0m",
      "\u001b[0;31mTypeError\u001b[0m                                 Traceback (most recent call last)",
      "\u001b[0;32m<ipython-input-11-2d69ccd6fa89>\u001b[0m in \u001b[0;36m<module>\u001b[0;34m()\u001b[0m\n\u001b[1;32m      1\u001b[0m \u001b[0mkey\u001b[0m \u001b[0;34m=\u001b[0m \u001b[0;34m[\u001b[0m\u001b[0;36m1\u001b[0m\u001b[0;34m,\u001b[0m \u001b[0;36m2\u001b[0m\u001b[0;34m,\u001b[0m \u001b[0;36m3\u001b[0m\u001b[0;34m]\u001b[0m\u001b[0;34m\u001b[0m\u001b[0m\n\u001b[0;32m----> 2\u001b[0;31m \u001b[0md\u001b[0m\u001b[0;34m[\u001b[0m\u001b[0mkey\u001b[0m\u001b[0;34m]\u001b[0m \u001b[0;34m=\u001b[0m \u001b[0;34m'a list'\u001b[0m\u001b[0;34m\u001b[0m\u001b[0m\n\u001b[0m",
      "\u001b[0;31mTypeError\u001b[0m: unhashable type: 'list'"
     ]
    }
   ],
   "source": [
    "key = [1, 2, 3]\n",
    "d[key] = 'a list'"
   ]
  },
  {
   "cell_type": "markdown",
   "metadata": {
    "collapsed": true
   },
   "source": [
    "### 4.String\n",
    "> **str** is invariant, so that if you **slice** or **replace** a str, your computer will create a **new memory** to store this **new str**."
   ]
  },
  {
   "cell_type": "code",
   "execution_count": 12,
   "metadata": {},
   "outputs": [
    {
     "data": {
      "text/plain": [
       "['capitalize',\n",
       " 'casefold',\n",
       " 'center',\n",
       " 'count',\n",
       " 'encode',\n",
       " 'endswith',\n",
       " 'expandtabs',\n",
       " 'find',\n",
       " 'format',\n",
       " 'format_map',\n",
       " 'index',\n",
       " 'isalnum',\n",
       " 'isalpha',\n",
       " 'isdecimal',\n",
       " 'isdigit',\n",
       " 'isidentifier',\n",
       " 'islower',\n",
       " 'isnumeric',\n",
       " 'isprintable',\n",
       " 'isspace',\n",
       " 'istitle',\n",
       " 'isupper',\n",
       " 'join',\n",
       " 'ljust',\n",
       " 'lower',\n",
       " 'lstrip',\n",
       " 'maketrans',\n",
       " 'partition',\n",
       " 'replace',\n",
       " 'rfind',\n",
       " 'rindex',\n",
       " 'rjust',\n",
       " 'rpartition',\n",
       " 'rsplit',\n",
       " 'rstrip',\n",
       " 'split',\n",
       " 'splitlines',\n",
       " 'startswith',\n",
       " 'strip',\n",
       " 'swapcase',\n",
       " 'title',\n",
       " 'translate',\n",
       " 'upper',\n",
       " 'zfill']"
      ]
     },
     "execution_count": 12,
     "metadata": {},
     "output_type": "execute_result"
    }
   ],
   "source": [
    "[x for x in dir(str) if not x.startswith('_')]"
   ]
  },
  {
   "cell_type": "code",
   "execution_count": 13,
   "metadata": {},
   "outputs": [
    {
     "name": "stdout",
     "output_type": "stream",
     "text": [
      "I'll\n",
      "Floor\n",
      "I'll catch you if you fall - The \n",
      "I'll be there \n",
      "X is my favourite letter and my number 1 number is 0.14000\n"
     ]
    }
   ],
   "source": [
    "long_string = \"I'll catch you if you fall - The Floor\"\n",
    "print(long_string[0:4])\n",
    "\n",
    "print(long_string[-5:])\n",
    "\n",
    "print(long_string[:-5])\n",
    "\n",
    "print(long_string[:4] + \" be there \")\n",
    "\n",
    "print(\"%c is my %s letter and my number %d number is %.5f\" % ('X', 'favourite', 1, .14))"
   ]
  },
  {
   "cell_type": "code",
   "execution_count": 14,
   "metadata": {},
   "outputs": [
    {
     "name": "stdout",
     "output_type": "stream",
     "text": [
      "I'll catch you if you fall - the floor\n"
     ]
    }
   ],
   "source": [
    "print(long_string.capitalize())"
   ]
  },
  {
   "cell_type": "code",
   "execution_count": 15,
   "metadata": {},
   "outputs": [
    {
     "name": "stdout",
     "output_type": "stream",
     "text": [
      "33\n"
     ]
    }
   ],
   "source": [
    "print(long_string.find('Floor'))"
   ]
  },
  {
   "cell_type": "code",
   "execution_count": 16,
   "metadata": {},
   "outputs": [
    {
     "name": "stdout",
     "output_type": "stream",
     "text": [
      "False\n"
     ]
    }
   ],
   "source": [
    "print(long_string.isalpha())"
   ]
  },
  {
   "cell_type": "code",
   "execution_count": 17,
   "metadata": {},
   "outputs": [
    {
     "name": "stdout",
     "output_type": "stream",
     "text": [
      "False\n"
     ]
    }
   ],
   "source": [
    "print(long_string.isalnum())"
   ]
  },
  {
   "cell_type": "code",
   "execution_count": 18,
   "metadata": {},
   "outputs": [
    {
     "name": "stdout",
     "output_type": "stream",
     "text": [
      "38\n"
     ]
    }
   ],
   "source": [
    "print(len(long_string))"
   ]
  },
  {
   "cell_type": "code",
   "execution_count": 19,
   "metadata": {},
   "outputs": [
    {
     "name": "stdout",
     "output_type": "stream",
     "text": [
      "I'll catch you if you fall - The Ground\n"
     ]
    }
   ],
   "source": [
    "print(long_string.replace('Floor', 'Ground'))"
   ]
  },
  {
   "cell_type": "code",
   "execution_count": 20,
   "metadata": {},
   "outputs": [
    {
     "name": "stdout",
     "output_type": "stream",
     "text": [
      "I'll catch you if you fall - The Floor\n"
     ]
    }
   ],
   "source": [
    "print(long_string.strip())"
   ]
  },
  {
   "cell_type": "code",
   "execution_count": 21,
   "metadata": {},
   "outputs": [
    {
     "name": "stdout",
     "output_type": "stream",
     "text": [
      "38\n"
     ]
    }
   ],
   "source": [
    "print(len(long_string))"
   ]
  },
  {
   "cell_type": "code",
   "execution_count": 22,
   "metadata": {},
   "outputs": [
    {
     "name": "stdout",
     "output_type": "stream",
     "text": [
      "[\"I'll\", 'catch', 'you', 'if', 'you', 'fall', '-', 'The', 'Floor']\n"
     ]
    }
   ],
   "source": [
    "quote_list = long_string.split(' ')\n",
    "print(quote_list)"
   ]
  },
  {
   "cell_type": "markdown",
   "metadata": {
    "collapsed": true
   },
   "source": [
    "### 5.set{}\n",
    "> Used to remove repeated elements  "
   ]
  },
  {
   "cell_type": "code",
   "execution_count": 23,
   "metadata": {},
   "outputs": [
    {
     "data": {
      "text/plain": [
       "['add',\n",
       " 'clear',\n",
       " 'copy',\n",
       " 'difference',\n",
       " 'difference_update',\n",
       " 'discard',\n",
       " 'intersection',\n",
       " 'intersection_update',\n",
       " 'isdisjoint',\n",
       " 'issubset',\n",
       " 'issuperset',\n",
       " 'pop',\n",
       " 'remove',\n",
       " 'symmetric_difference',\n",
       " 'symmetric_difference_update',\n",
       " 'union',\n",
       " 'update']"
      ]
     },
     "execution_count": 23,
     "metadata": {},
     "output_type": "execute_result"
    }
   ],
   "source": [
    "[x for x in dir(set) if not x.startswith('_')]"
   ]
  },
  {
   "cell_type": "code",
   "execution_count": 24,
   "metadata": {},
   "outputs": [
    {
     "name": "stdout",
     "output_type": "stream",
     "text": [
      "<class 'set'>\n",
      "{1, 2, 3, 4}\n",
      "<class 'set'>\n",
      "{2, 3, 4, 5}\n"
     ]
    }
   ],
   "source": [
    "# An empty set\n",
    "anEmptySet = set()\n",
    "print(type(anEmptySet))\n",
    "aSet = {1, 2, 3, 4, 4}\n",
    "print(aSet)\n",
    "print(type(aSet))\n",
    "aSet.add(5)\n",
    "aSet.remove(1)\n",
    "print(aSet)"
   ]
  },
  {
   "cell_type": "code",
   "execution_count": 25,
   "metadata": {},
   "outputs": [
    {
     "name": "stdout",
     "output_type": "stream",
     "text": [
      "{'peace', 'adams', 'rong', 'nick'}\n",
      "{'peace', 'leven', 'rong'}\n"
     ]
    }
   ],
   "source": [
    "a={\"peace\",\"peace\",\"rong\",\"rong\",\"nick\",\"adams\"} \n",
    "print(a)\n",
    "b=set([\"peace\",\"peace\",\"rong\",\"rong\", \"leven\"]) \n",
    "print(b)"
   ]
  },
  {
   "cell_type": "code",
   "execution_count": 26,
   "metadata": {},
   "outputs": [
    {
     "name": "stdout",
     "output_type": "stream",
     "text": [
      "{'peace', 'leven', 'adams', 'rong', 'nick'}\n",
      "{'peace', 'leven', 'adams', 'rong', 'nick'}\n",
      "{'peace', 'rong'}\n",
      "{'peace', 'rong'}\n",
      "{'nick', 'adams'}\n",
      "{'nick', 'adams'}\n",
      "{'adams', 'leven', 'nick'}\n",
      "{'adams', 'leven', 'nick'}\n"
     ]
    }
   ],
   "source": [
    "## Union\n",
    "print(a | b)\n",
    "print(a.union(b))\n",
    "## Intersection\n",
    "print(a & b)\n",
    "print(a.intersection(b))\n",
    "## Difference\n",
    "print(a - b)\n",
    "print(a.difference(b))\n",
    "## Sysmmetric Difference\n",
    "print(a ^ b)\n",
    "print(a.symmetric_difference(b))"
   ]
  }
 ],
 "metadata": {
  "kernelspec": {
   "display_name": "Python 3",
   "language": "python",
   "name": "python3"
  },
  "language_info": {
   "codemirror_mode": {
    "name": "ipython",
    "version": 3
   },
   "file_extension": ".py",
   "mimetype": "text/x-python",
   "name": "python",
   "nbconvert_exporter": "python",
   "pygments_lexer": "ipython3",
   "version": "3.6.1"
  }
 },
 "nbformat": 4,
 "nbformat_minor": 2
}
