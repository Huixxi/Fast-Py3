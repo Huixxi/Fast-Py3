{
 "cells": [
  {
   "cell_type": "markdown",
   "metadata": {},
   "source": [
    "## Fast Python For Beginners"
   ]
  },
  {
   "cell_type": "markdown",
   "metadata": {},
   "source": [
    "### 1.Methods for a string includes some quotes"
   ]
  },
  {
   "cell_type": "code",
   "execution_count": 1,
   "metadata": {
    "collapsed": true
   },
   "outputs": [],
   "source": [
    "quote_1 = \"\\\"Always remember you are unique\\\"\"\n",
    "quote_2 = '\"Always remember you are unique\"'\n",
    "\n",
    "multi_line_quote = '''\"just\n",
    "like everyone else\"'''\n",
    "\n",
    "new_string = quote_1 + multi_line_quote"
   ]
  },
  {
   "cell_type": "markdown",
   "metadata": {},
   "source": [
    "### 2.Print"
   ]
  },
  {
   "cell_type": "code",
   "execution_count": 2,
   "metadata": {},
   "outputs": [
    {
     "name": "stdout",
     "output_type": "stream",
     "text": [
      "459 0.098 44.982\n",
      "--------------\n",
      "459,0.098,44.982\n",
      "459 :-) 0.098 :-) 44.982\n",
      "--------------\n",
      "I don't like \"Always remember you are unique\"\n"
     ]
    }
   ],
   "source": [
    "q = 459\n",
    "p = 0.098\n",
    "print(q, p, q * p)\n",
    "print('--------------')\n",
    "# Separate by ','\n",
    "print(q, p, q * p, sep=\",\") \n",
    "# Separate by ' :-) '\n",
    "print(q, p, q * p, sep=' :-) ') \n",
    "print('--------------')\n",
    "# Print without a newline by end=\"\"\n",
    "print(\"I don't like \", end=\"\")\n",
    "print(quote_1)"
   ]
  },
  {
   "cell_type": "markdown",
   "metadata": {},
   "source": [
    "### 3.[Formatted Output_a][1]\n",
    "**The general syntax for a format placeholder is**  \n",
    "**&emsp;&emsp;`%[flag][width][.precision]type`**    \n",
    "**Conversion &emsp;&nbsp;&nbsp;&nbsp;| &emsp;&emsp;Meaning**  \n",
    "`d,i`  &emsp;&emsp;&emsp;&emsp;&emsp;&emsp;| &emsp;&emsp;Signed integer decimal.   \n",
    "`u`   &emsp;&emsp;&emsp;&emsp;&emsp;&emsp;&emsp;| &emsp;&emsp;Signed integer decimal(Equal to d,i).    \n",
    "`o`   &emsp;&emsp;&emsp;&emsp;&emsp;&emsp;&emsp;| &emsp;&emsp;Unsigned octal.  \n",
    "`x`   &emsp;&emsp;&emsp;&emsp;&emsp;&emsp;&emsp;| &emsp;&emsp;Unsigned hexadecimal (lowercase).  \n",
    "`X`   &emsp;&emsp;&emsp;&emsp;&emsp;&emsp;&emsp;| &emsp;&emsp;Unsigned hexadecimal (uppercase).  \n",
    "`e`   &emsp;&emsp;&emsp;&emsp;&emsp;&emsp;&emsp;| &emsp;&emsp;Floating point exponential format (lowercase).  \n",
    "`E`   &emsp;&emsp;&emsp;&emsp;&emsp;&emsp;&emsp;| &emsp;&emsp;Floating point exponential format (uppercase).   \n",
    "`f`   &emsp;&emsp;&emsp;&emsp;&emsp;&emsp;&emsp;| &emsp;&emsp;Floating point decimal format.  \n",
    "`F`   &emsp;&emsp;&emsp;&emsp;&emsp;&emsp;&emsp;| &emsp;&emsp;Floating point decimal format.  \n",
    "`g`   &emsp;&emsp;&emsp;&emsp;&emsp;&emsp;&emsp;| &emsp;&emsp;Same as \"e\" if exponent is greater than -4 or less than precision, \"f\" otherwise.  \n",
    "`G`   &emsp;&emsp;&emsp;&emsp;&emsp;&emsp;&emsp;| &emsp;&emsp;Same as \"E\" if exponent is greater than -4 or less than precision, \"F\" otherwise.  \n",
    "`c`   &emsp;&emsp;&emsp;&emsp;&emsp;&emsp;&emsp;| &emsp;&emsp;Single character (accepts integer or single character string).  \n",
    "`r`   &emsp;&emsp;&emsp;&emsp;&emsp;&emsp;&emsp;| &emsp;&emsp;String (converts any python object using `repr()`).  \n",
    "`s`   &emsp;&emsp;&emsp;&emsp;&emsp;&emsp;&emsp;| &emsp;&emsp;String (converts any python object using `str()`).  \n",
    "`%`   &emsp;&emsp;&emsp;&emsp;&emsp;&emsp;&emsp;| &emsp;&emsp;No argument is converted, results in a \"%\" character in the result.  \n",
    "  \n",
    "**Flag&emsp;&emsp;&emsp;&emsp;&emsp;&nbsp;&nbsp;| &emsp;&emsp;Meaning**  \n",
    "`#`&emsp;&emsp;&emsp;&emsp;&emsp;&emsp;&emsp;&nbsp;|&emsp;&emsp;Used with o, x or X specifiers the value is preceded with 0, 0o, 0O, 0x or 0X respectively.  \n",
    "`0`&emsp;&emsp;&emsp;&emsp;&emsp;&emsp;&emsp;&nbsp;|&emsp;&emsp;The conversion result will be zero padded for numeric values.  \n",
    "`-`&emsp;&emsp;&emsp;&emsp;&emsp;&emsp;&emsp;&nbsp;|&emsp;&emsp;The converted value is left adjusted  \n",
    "&emsp;&emsp;&emsp;&emsp;&emsp;&emsp;&emsp;&nbsp;&ensp;|&emsp;&emsp;If no sign (minus sign e.g.) is going to be written, a blank space is inserted before the value.  \n",
    "`+`&emsp;&emsp;&emsp;&emsp;&emsp;&emsp;&emsp;&nbsp;|&emsp;&emsp;A sign character (\"+\" or \"-\") will precede the conversion (overrides a \"space\" flag).\n",
    "\n",
    "[1]:https://www.python-course.eu/python3_formatted_output.php"
   ]
  },
  {
   "cell_type": "code",
   "execution_count": 3,
   "metadata": {},
   "outputs": [
    {
     "name": "stdout",
     "output_type": "stream",
     "text": [
      "I like the quote \"Always remember you are unique\" very much!\n",
      "Art:   453, Price per Unit:    59.06\n"
     ]
    }
   ],
   "source": [
    "## Formatted Output 1\n",
    "print(\"%s %s very much!\" % ('I like the quote', quote_1))\n",
    "print(\"Art: %5d, Price per Unit: %8.2f\" % (453, 59.058))"
   ]
  },
  {
   "cell_type": "code",
   "execution_count": 4,
   "metadata": {},
   "outputs": [
    {
     "name": "stdout",
     "output_type": "stream",
     "text": [
      " 3.561e+02\n",
      " 3.561E+02\n",
      "        31\n",
      "       031\n",
      "     00031\n",
      " 0x2f\n",
      " 002f\n",
      " 002F\n",
      "Only one percentage sign: % \n",
      "-----------------------------\n",
      " 0X2F\n",
      "   2F\n",
      "0X002F\n",
      " 0o31\n",
      "+42\n",
      " 42\n",
      "+42\n",
      " 42\n",
      "42\n"
     ]
    }
   ],
   "source": [
    "print(\"%10.3e\"% (356.08977))\n",
    "print(\"%10.3E\"% (356.08977))\n",
    "print(\"%10o\"  % (25))\n",
    "print(\"%10.3o\"% (25))\n",
    "print(\"%10.5o\"% (25))\n",
    "print(\"%#5x\"  % (47))\n",
    "print(\"%5.4x\" % (47))\n",
    "print(\"%5.4X\" % (47))\n",
    "print(\"Only one percentage sign: %% \" % ())\n",
    "print(\"-----------------------------\")\n",
    "print(\"%#5X\"% (47))\n",
    "print(\"%5X\" % (47))\n",
    "print(\"%#5.4X\"% (47))\n",
    "print(\"%#5o\"% (25))\n",
    "print(\"%+d\" % (42))\n",
    "print(\"% d\" % (42))\n",
    "print(\"%+2d\"% (42))\n",
    "print(\"% 2d\"% (42))\n",
    "print(\"%2d\" % (42))\n"
   ]
  },
  {
   "cell_type": "markdown",
   "metadata": {},
   "source": [
    "### 4.Formatted Output_b\n",
    "**The Pythonic Way: The string method \"format\"**  \n",
    "**Option &emsp;&emsp;&emsp;&emsp;| &emsp;&emsp;Meaning**  \n",
    "`<`&emsp;&emsp;&emsp;&emsp;&emsp;&emsp;&emsp;&nbsp;|&emsp;&emsp;The field will be **left-aligned** within the available space. This is usually the default for strings.  \n",
    "`>`&emsp;&emsp;&emsp;&emsp;&emsp;&emsp;&emsp;&nbsp;|&emsp;&emsp;The field will be **right-aligned** within the available space. This is the default for numbers.  \n",
    "`,`&emsp;&emsp;&emsp;&emsp;&emsp;&emsp;&emsp;&nbsp;|&emsp;&emsp;This option signals the use of a comma for a thousands separator.  \n",
    "\n"
   ]
  },
  {
   "cell_type": "code",
   "execution_count": 5,
   "metadata": {},
   "outputs": [
    {
     "name": "stdout",
     "output_type": "stream",
     "text": [
      "The value is 78,962,324,245\n",
      "The value is   78,962,324,245\n",
      "The value is 5,897,653,423.897\n"
     ]
    }
   ],
   "source": [
    "x = 78962324245\n",
    "print(\"The value is {:,}\".format(x))\n",
    "print(\"The value is {0:16,d}\".format(x))\n",
    "y = 5897653423.89676\n",
    "print(\"The value is {0:12,.3f}\".format(y))"
   ]
  },
  {
   "cell_type": "code",
   "execution_count": 6,
   "metadata": {},
   "outputs": [
    {
     "name": "stdout",
     "output_type": "stream",
     "text": [
      "Art:   453, Price per Unit:    59.06\n",
      "Art:   453, Price per Unit:    59.06\n"
     ]
    }
   ],
   "source": [
    "## Formatted Output 2\n",
    "print(\"Art: {0:5d}, Price per Unit: {1:8.2f}\".format(453, 59.058))\n",
    "print(\"Art: {a:5d}, Price per Unit: {p:8.2f}\".format(a=453, p=59.058))"
   ]
  },
  {
   "cell_type": "markdown",
   "metadata": {},
   "source": [
    "**Using dictionaries in \"format\"**  \n",
    ">The double \"\\*\" in front of data, ie `**data` turns data automatically into the form   \n",
    "'province=\"Ontario\",capital=\"Toronto\"'."
   ]
  },
  {
   "cell_type": "code",
   "execution_count": 7,
   "metadata": {},
   "outputs": [
    {
     "name": "stdout",
     "output_type": "stream",
     "text": [
      "The capital of Ontario is Toronto\n",
      "The capital of Ontario is Toronto\n"
     ]
    }
   ],
   "source": [
    "print(\"The capital of {province} is {capital}\".format(province=\"Ontario\",capital=\"Toronto\"))\n",
    "## OR\n",
    "data = dict(capital=\"Toronto\", province=\"Ontario\")\n",
    "print(\"The capital of {province} is {capital}\".format(**data))"
   ]
  },
  {
   "cell_type": "markdown",
   "metadata": {},
   "source": [
    "**Using Local Variable Names in \"format\"**\n",
    "> \"**locals**\" is a function, which returns a dictionary with the current scope's local variables, i.e- the local variable names are the keys of this dictionary and the corresponding values are the values of these variables:"
   ]
  },
  {
   "cell_type": "code",
   "execution_count": 8,
   "metadata": {},
   "outputs": [
    {
     "name": "stdout",
     "output_type": "stream",
     "text": [
      "a=42, b=47 and f=<function f at 0x7f8d04acb510>\n"
     ]
    }
   ],
   "source": [
    "a = 42\n",
    "b = 47\n",
    "def f(): return 42\n",
    "print(\"a={a}, b={b} and f={f}\".format(**locals()))"
   ]
  },
  {
   "cell_type": "markdown",
   "metadata": {},
   "source": [
    "**Other string methods for Formatting**\n",
    "+ center(...)  \n",
    "**`S.center(witdth[, fillchar])` &emsp;`->str`**\n",
    "+ ljust(...)  \n",
    "**`S.ljust(width[, fillchar])` &emsp;`->str`**\n",
    "+ rjust(...)  \n",
    "**`S.rjust(width[, fillchar])` &emsp;`->str`**\n",
    "+ zfill(...)  \n",
    "**`S.zfill(width)` &emsp;`->str`**"
   ]
  },
  {
   "cell_type": "code",
   "execution_count": 9,
   "metadata": {},
   "outputs": [
    {
     "name": "stdout",
     "output_type": "stream",
     "text": [
      "  Python  \n",
      "**Python**\n",
      "Python    \n",
      "Python::::\n",
      "    Python\n",
      "++++Python\n",
      "0000Python\n"
     ]
    }
   ],
   "source": [
    "s = \"Python\"\n",
    "print(s.center(10))\n",
    "print(s.center(10, '*'))\n",
    "print(s.ljust(10))\n",
    "print(s.ljust(10, ':'))\n",
    "print(s.rjust(10))\n",
    "print(s.rjust(10, '+'))\n",
    "print(s.zfill(10))"
   ]
  },
  {
   "cell_type": "markdown",
   "metadata": {},
   "source": [
    "**Formatted String Literals**\n",
    ">Python 3.6 introduces formatted string literals. They are prefixed with an 'f'. The formatting syntax is similar to the format strings accepted by str.format(). "
   ]
  },
  {
   "cell_type": "code",
   "execution_count": 10,
   "metadata": {},
   "outputs": [
    {
     "name": "stdout",
     "output_type": "stream",
     "text": [
      "Price in Euro: 11.23\n",
      "Price in Swiss Franks: 12.195780000000001\n",
      "Price in Swiss Franks: 12.20\n",
      "     bread:\n",
      "    butter:\n",
      "       tea:\n"
     ]
    }
   ],
   "source": [
    "price = 11.23\n",
    "print(f\"Price in Euro: {price}\")\n",
    "print(f\"Price in Swiss Franks: {price * 1.086}\")\n",
    "print(f\"Price in Swiss Franks: {price * 1.086:5.2f}\")\n",
    "for x in [\"bread\", \"butter\", \"tea\"]:\n",
    "    print(f\"{x:>10}:\")"
   ]
  }
 ],
 "metadata": {
  "kernelspec": {
   "display_name": "Python 3",
   "language": "python",
   "name": "python3"
  },
  "language_info": {
   "codemirror_mode": {
    "name": "ipython",
    "version": 3
   },
   "file_extension": ".py",
   "mimetype": "text/x-python",
   "name": "python",
   "nbconvert_exporter": "python",
   "pygments_lexer": "ipython3",
   "version": "3.6.1"
  }
 },
 "nbformat": 4,
 "nbformat_minor": 2
}
