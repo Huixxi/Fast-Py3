{
 "cells": [
  {
   "cell_type": "markdown",
   "metadata": {},
   "source": [
    "# Fast Python3 for Beginners\n",
    "___"
   ]
  },
  {
   "cell_type": "markdown",
   "metadata": {},
   "source": [
    "### Conditionals\n",
    "`if-else` `elif` `==` `!=` `>` `>=` `<` `<=`  \n",
    "`and` `or` `not`"
   ]
  },
  {
   "cell_type": "code",
   "execution_count": 1,
   "metadata": {},
   "outputs": [
    {
     "name": "stdout",
     "output_type": "stream",
     "text": [
      "You are old enough to drive\n"
     ]
    }
   ],
   "source": [
    "age = 21\n",
    "\n",
    "if age > 16 :\n",
    "    print(\"You are old enough to drive\")\n",
    "else :\n",
    "    print(\"You are not old enough to drive\")"
   ]
  },
  {
   "cell_type": "code",
   "execution_count": 2,
   "metadata": {},
   "outputs": [
    {
     "name": "stdout",
     "output_type": "stream",
     "text": [
      "You are old enough to drive a tractor trailer\n"
     ]
    }
   ],
   "source": [
    "if age >= 21 :\n",
    "    print(\"You are old enough to drive a tractor trailer\")\n",
    "elif age >= 16 :\n",
    "    print(\"You are old enough to drive a car\")\n",
    "else :\n",
    "    print(\"You are not old enough to drive\")"
   ]
  },
  {
   "cell_type": "code",
   "execution_count": 3,
   "metadata": {},
   "outputs": [
    {
     "name": "stdout",
     "output_type": "stream",
     "text": [
      "You get a birthday\n"
     ]
    }
   ],
   "source": [
    "if ((age >= 1) and (age <= 18)):\n",
    "    print(\"You get a birthday\")\n",
    "elif ((age == 21) or (age >= 65)):\n",
    "    print(\"You get a birthday\")\n",
    "elif not(age == 30):\n",
    "    print(\"You don't get a birthday\")\n",
    "else:\n",
    "    print(\"You get a birthday party yeah\")"
   ]
  },
  {
   "cell_type": "code",
   "execution_count": 4,
   "metadata": {},
   "outputs": [
    {
     "data": {
      "text/plain": [
       "'Done!🐈'"
      ]
     },
     "execution_count": 4,
     "metadata": {},
     "output_type": "execute_result"
    }
   ],
   "source": [
    "'Done!\\N{Cat}'"
   ]
  }
 ],
 "metadata": {
  "kernelspec": {
   "display_name": "Python 3",
   "language": "python",
   "name": "python3"
  },
  "language_info": {
   "codemirror_mode": {
    "name": "ipython",
    "version": 3
   },
   "file_extension": ".py",
   "mimetype": "text/x-python",
   "name": "python",
   "nbconvert_exporter": "python",
   "pygments_lexer": "ipython3",
   "version": "3.7.1"
  }
 },
 "nbformat": 4,
 "nbformat_minor": 2
}
